{
 "cells": [
  {
   "attachments": {},
   "cell_type": "markdown",
   "id": "da9bf46b-f07e-4625-9f0a-7035f2cb2526",
   "metadata": {
    "tags": []
   },
   "source": [
    "# Linear Regression (9 pts)"
   ]
  },
  {
   "cell_type": "markdown",
   "id": "5ff1ce62",
   "metadata": {},
   "source": [
    "---\n",
    "### Collaborators\n",
    "You MUST include a bulleted list with the full names of everyone you collaborated with on this assignment.\n",
    "- Jane Doe\n",
    "- John Doe"
   ]
  },
  {
   "attachments": {},
   "cell_type": "markdown",
   "id": "814e6617",
   "metadata": {},
   "source": [
    "---\n",
    "1. (3 pts) For the diabetes dataset in `diabetes.csv` (make sure you copy this file from the assignments folder on GitHub to the folder where you have this notebook file), compute the weights (i.e., slopes) and intercept for a linear model that predicts diabetes progression based on the other 10 features after the features have been standardized."
   ]
  },
  {
   "cell_type": "code",
   "execution_count": null,
   "id": "cd7e4571",
   "metadata": {},
   "outputs": [],
   "source": []
  },
  {
   "attachments": {},
   "cell_type": "markdown",
   "id": "2c23a8a5",
   "metadata": {},
   "source": [
    "---\n",
    "2. (3 pts) Use bootstrap to estimate 95% confidence intervals for each weight (slope) in the model above."
   ]
  },
  {
   "cell_type": "code",
   "execution_count": null,
   "id": "edfdd151",
   "metadata": {},
   "outputs": [],
   "source": []
  },
  {
   "attachments": {},
   "cell_type": "markdown",
   "id": "f19cccd6",
   "metadata": {},
   "source": [
    "---\n",
    "3. (3 pts) Make bar plot of the model weights with errorbars indicating their 95% confidence limits."
   ]
  },
  {
   "cell_type": "code",
   "execution_count": null,
   "id": "08187a6b",
   "metadata": {},
   "outputs": [],
   "source": []
  }
 ],
 "metadata": {
  "kernelspec": {
   "display_name": "Python 3 (ipykernel)",
   "language": "python",
   "name": "python3"
  },
  "language_info": {
   "codemirror_mode": {
    "name": "ipython",
    "version": 3
   },
   "file_extension": ".py",
   "mimetype": "text/x-python",
   "name": "python",
   "nbconvert_exporter": "python",
   "pygments_lexer": "ipython3",
   "version": "3.12.1"
  },
  "vscode": {
   "interpreter": {
    "hash": "7b6fce1537a0f61b09a1c0f374c9c73e53e0122f3da97a6f70c30069bc6a1f20"
   }
  }
 },
 "nbformat": 4,
 "nbformat_minor": 5
}
